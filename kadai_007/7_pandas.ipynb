{
  "nbformat": 4,
  "nbformat_minor": 0,
  "metadata": {
    "colab": {
      "provenance": [],
      "authorship_tag": "ABX9TyMN1v+toEZzVIzuT2Y5Wq96",
      "include_colab_link": true
    },
    "kernelspec": {
      "name": "python3",
      "display_name": "Python 3"
    },
    "language_info": {
      "name": "python"
    }
  },
  "cells": [
    {
      "cell_type": "markdown",
      "metadata": {
        "id": "view-in-github",
        "colab_type": "text"
      },
      "source": [
        "<a href=\"https://colab.research.google.com/github/ss66-cloud/data-analysis-basic-kadai/blob/main/kadai_007/7_pandas.ipynb\" target=\"_parent\"><img src=\"https://colab.research.google.com/assets/colab-badge.svg\" alt=\"Open In Colab\"/></a>"
      ]
    },
    {
      "cell_type": "code",
      "execution_count": 3,
      "metadata": {
        "colab": {
          "base_uri": "https://localhost:8080/"
        },
        "id": "4KrcQCWE8tHQ",
        "outputId": "5cadd383-2420-478c-cd1d-36594f733447"
      },
      "outputs": [
        {
          "output_type": "stream",
          "name": "stdout",
          "text": [
            "Collecting japanize-matplotlib\n",
            "  Downloading japanize-matplotlib-1.1.3.tar.gz (4.1 MB)\n",
            "\u001b[2K     \u001b[90m━━━━━━━━━━━━━━━━━━━━━━━━━━━━━━━━━━━━━━━━\u001b[0m \u001b[32m4.1/4.1 MB\u001b[0m \u001b[31m35.4 MB/s\u001b[0m eta \u001b[36m0:00:00\u001b[0m\n",
            "\u001b[?25h  Preparing metadata (setup.py) ... \u001b[?25l\u001b[?25hdone\n",
            "Requirement already satisfied: matplotlib in /usr/local/lib/python3.11/dist-packages (from japanize-matplotlib) (3.10.0)\n",
            "Requirement already satisfied: contourpy>=1.0.1 in /usr/local/lib/python3.11/dist-packages (from matplotlib->japanize-matplotlib) (1.3.2)\n",
            "Requirement already satisfied: cycler>=0.10 in /usr/local/lib/python3.11/dist-packages (from matplotlib->japanize-matplotlib) (0.12.1)\n",
            "Requirement already satisfied: fonttools>=4.22.0 in /usr/local/lib/python3.11/dist-packages (from matplotlib->japanize-matplotlib) (4.58.1)\n",
            "Requirement already satisfied: kiwisolver>=1.3.1 in /usr/local/lib/python3.11/dist-packages (from matplotlib->japanize-matplotlib) (1.4.8)\n",
            "Requirement already satisfied: numpy>=1.23 in /usr/local/lib/python3.11/dist-packages (from matplotlib->japanize-matplotlib) (2.0.2)\n",
            "Requirement already satisfied: packaging>=20.0 in /usr/local/lib/python3.11/dist-packages (from matplotlib->japanize-matplotlib) (24.2)\n",
            "Requirement already satisfied: pillow>=8 in /usr/local/lib/python3.11/dist-packages (from matplotlib->japanize-matplotlib) (11.2.1)\n",
            "Requirement already satisfied: pyparsing>=2.3.1 in /usr/local/lib/python3.11/dist-packages (from matplotlib->japanize-matplotlib) (3.2.3)\n",
            "Requirement already satisfied: python-dateutil>=2.7 in /usr/local/lib/python3.11/dist-packages (from matplotlib->japanize-matplotlib) (2.9.0.post0)\n",
            "Requirement already satisfied: six>=1.5 in /usr/local/lib/python3.11/dist-packages (from python-dateutil>=2.7->matplotlib->japanize-matplotlib) (1.17.0)\n",
            "Building wheels for collected packages: japanize-matplotlib\n",
            "  Building wheel for japanize-matplotlib (setup.py) ... \u001b[?25l\u001b[?25hdone\n",
            "  Created wheel for japanize-matplotlib: filename=japanize_matplotlib-1.1.3-py3-none-any.whl size=4120257 sha256=a9570ef6e4d3219ba0b13aad23d895ed91fe28d8055c1a8b732589e8c65bbb58\n",
            "  Stored in directory: /root/.cache/pip/wheels/da/a1/71/b8faeb93276fed10edffcca20746f1ef6f8d9e071eee8425fc\n",
            "Successfully built japanize-matplotlib\n",
            "Installing collected packages: japanize-matplotlib\n",
            "Successfully installed japanize-matplotlib-1.1.3\n",
            "Mounted at /content/drive\n"
          ]
        }
      ],
      "source": [
        "\n",
        "!pip install japanize-matplotlib\n",
        "import pandas as pd\n",
        "import japanize_matplotlib as jplt\n",
        "import matplotlib.pyplot as plt\n",
        "\n",
        "from google.colab import drive\n",
        "drive.mount('/content/drive')\n",
        "\n"
      ]
    },
    {
      "cell_type": "code",
      "source": [
        "\n",
        "\n",
        "category_df = pd.read_csv('/content/drive/MyDrive/category.csv')\n",
        "df = pd.read_csv('/content/drive/MyDrive/sample_pandas_6.csv')\n",
        "df = pd.merge(df, category_df[['商品番号', 'カテゴリー']], how='inner', on='商品番号')\n",
        "df.to_csv('/content/drive/MyDrive/pandas_merged.csv', index=False)\n",
        "print(df.head())\n",
        "\n",
        "\n",
        "\n"
      ],
      "metadata": {
        "colab": {
          "base_uri": "https://localhost:8080/"
        },
        "id": "lkfM--KeUBsA",
        "outputId": "d9da8746-7b9b-41f6-aaf3-0071ddefbeee"
      },
      "execution_count": 4,
      "outputs": [
        {
          "output_type": "stream",
          "name": "stdout",
          "text": [
            "          発注日      商品番号              商品名   単価  在庫  注文数 カテゴリー_x カテゴリー_y\n",
            "0  2016-03-06  YY4HAAZR  商品サンプル YY4HAAZR  780  20   24      弁当      弁当\n",
            "1  2015-03-27  Z4WOOIYV  商品サンプル Z4WOOIYV   90  45   12     飲料水     飲料水\n",
            "2  2017-05-31  YY4HAAZR  商品サンプル YY4HAAZR  780  10    0      弁当      弁当\n",
            "3  2022-10-26  1QJFO8QY  商品サンプル 1QJFO8QY  600   5   24      弁当      弁当\n",
            "4  2016-06-10  1QJFO8QY  商品サンプル 1QJFO8QY  600  40   24      弁当      弁当\n"
          ]
        }
      ]
    },
    {
      "cell_type": "code",
      "source": [
        "df['カテゴリー_x'].value_counts().plot(kind='bar')\n",
        "plt.show()"
      ],
      "metadata": {
        "colab": {
          "base_uri": "https://localhost:8080/",
          "height": 301
        },
        "id": "MWaKKOs0vaKu",
        "outputId": "6b5ae5ca-dcc8-4c34-812d-d692a6c7a1fc"
      },
      "execution_count": 5,
      "outputs": [
        {
          "output_type": "display_data",
          "data": {
            "text/plain": [
              "<Figure size 640x480 with 1 Axes>"
            ],
            "image/png": "[encoded data removed]"
          },
          "metadata": {}
        }
      ]
    },
    {
      "cell_type": "code",
      "source": [
        "print(df.groupby('商品番号')['注文数'].sum())\n",
        "print(df.groupby('商品番号')['注文数'].describe())\n"
      ],
      "metadata": {
        "colab": {
          "base_uri": "https://localhost:8080/"
        },
        "id": "wqNl0fXahiJL",
        "outputId": "84f28bfd-83f8-41df-847a-35afb5006508"
      },
      "execution_count": 8,
      "outputs": [
        {
          "output_type": "stream",
          "name": "stdout",
          "text": [
            "商品番号\n",
            "1QJFO8QY    1128\n",
            "2HSTCDWM     588\n",
            "48XMJXKO     216\n",
            "8T7D5DQA     528\n",
            "MESUDVWQ     744\n",
            "QRMOGNUU     894\n",
            "S6RE8W6X     666\n",
            "X0ZE2ZMY     306\n",
            "YY4HAAZR     540\n",
            "Z4WOOIYV     588\n",
            "Name: 注文数, dtype: int64\n",
            "          count       mean        std  min   25%   50%   75%   max\n",
            "商品番号                                                              \n",
            "1QJFO8QY   32.0  35.250000  18.461818  0.0  24.0  36.0  49.5  60.0\n",
            "2HSTCDWM   20.0  29.400000  21.137146  0.0  12.0  27.0  48.0  60.0\n",
            "48XMJXKO   10.0  21.600000  13.326665  0.0  13.5  21.0  30.0  42.0\n",
            "8T7D5DQA   21.0  25.142857  18.260027  0.0  12.0  36.0  42.0  54.0\n",
            "MESUDVWQ   17.0  43.764706  18.219253  0.0  42.0  48.0  54.0  60.0\n",
            "QRMOGNUU   27.0  33.111111  16.588535  6.0  21.0  36.0  48.0  60.0\n",
            "S6RE8W6X   20.0  33.300000  21.631118  0.0  12.0  39.0  54.0  60.0\n",
            "X0ZE2ZMY   14.0  21.857143  21.901377  0.0   1.5  15.0  39.0  60.0\n",
            "YY4HAAZR   17.0  31.764706  18.095336  0.0  18.0  30.0  42.0  60.0\n",
            "Z4WOOIYV   22.0  26.727273  19.218498  0.0  12.0  24.0  42.0  60.0\n"
          ]
        }
      ]
    }
  ]
}