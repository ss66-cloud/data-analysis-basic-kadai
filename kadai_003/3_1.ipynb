{
  "nbformat": 4,
  "nbformat_minor": 0,
  "metadata": {
    "colab": {
      "provenance": []
    },
    "kernelspec": {
      "name": "python3",
      "display_name": "Python 3"
    },
    "language_info": {
      "name": "python"
    }
  },
  "cells": [
    {
      "cell_type": "code",
      "execution_count": 14,
      "metadata": {
        "colab": {
          "base_uri": "https://localhost:8080/"
        },
        "id": "kcbdBgym1Xob",
        "outputId": "11dfae0b-9aea-4a59-c9de-be9030d07110"
      },
      "outputs": [
        {
          "output_type": "stream",
          "name": "stdout",
          "text": [
            "[[ 4  5  6  7]\n",
            " [12 17 22 27]\n",
            " [20 29 38 47]]\n",
            "47\n"
          ]
        }
      ],
      "source": [
        "import numpy as np\n",
        "multi_arraya = np.array([[0,1],[2,3],[4,5]])\n",
        "multi_arrayb = np.array([[0,1,2,3],[4,5,6,7]])\n",
        "\n",
        "result = multi_arraya @ multi_arrayb\n",
        "print(result)\n",
        "max_value = result.max()\n",
        "print(max_value)\n"
      ]
    }
  ]
}